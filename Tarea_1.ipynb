{
 "cells": [
  {
   "attachments": {},
   "cell_type": "markdown",
   "metadata": {},
   "source": [
    "# **Maestría en Inteligencia Artificial Aplicada**\n",
    "## **Curso: Navegación autónoma**\n",
    "### Tecnológico de Monterrey\n",
    "### Prof Dr. David Antonio Torres\n",
    "### Maricarmen Vázquez Rojí\n",
    "\n",
    "### **ALUMNO: Luis Alfonso Sabanero Esquivel**\n",
    "### **MATRICULA: A01273286**\n",
    "### **ALUMNO: Jose Mtanous**\n",
    "### **MATRICULA: A00169781**\n",
    "### **ALUMNO: Guillermo Alfonso Muñiz Hermosillo**\n",
    "### **MATRICULA: A01793101**\n",
    "### **ALUMNO: Jorge Mariles Estrada**\n",
    "### **MATRICULA: A01335663**\n",
    "\n",
    "\n",
    "\n",
    "## **Adtividad de la Semana 03**\n",
    "### **Actividad 2.1 - Detección de carriles en video usando transformada de Hough**\n",
    "\n",
    "### Mayo 2023"
   ]
  },
  {
   "cell_type": "code",
   "execution_count": 1,
   "metadata": {},
   "outputs": [],
   "source": [
    "import numpy as np\n",
    "import cv2 "
   ]
  },
  {
   "attachments": {},
   "cell_type": "markdown",
   "metadata": {},
   "source": [
    "El algoritmo de la Transformada de Hough consta de los siguientes pasos:\n",
    "\n",
    "1. Conversión de la imagen a escala de grises: Primero, se convierte la imagen original a escala de grises, ya que la detección de bordes y la segmentación de la imagen son más fáciles en imágenes en escala de grises.\n",
    "\n",
    "2. Detección de bordes: Se utiliza un operador de detección de bordes, como el operador Sobel o Canny, para detectar los bordes en la imagen en escala de grises. Los bordes son los puntos de la imagen donde la intensidad cambia abruptamente.\n",
    "\n",
    "3. Creación del espacio de Hough: Para cada píxel de borde en la imagen, se traza una curva en el espacio de Hough. La curva representa todas las posibles líneas que podrían pasar a través del píxel de borde. El espacio de Hough es una matriz de dos dimensiones donde cada punto representa una posible línea en la imagen original.\n",
    "\n",
    "4. Acumulación de votos: Se acumulan votos en el espacio de Hough para cada curva. Cada vez que una curva se cruza con otra curva en el espacio de Hough, se incrementa el contador de votos en esa posición del espacio de Hough. Los cruces de curvas representan las posibles líneas en la imagen original.\n",
    "\n",
    "5. Umbralización: Se establece un umbral en el contador de votos para identificar las líneas más prominentes en la imagen original. El umbral determina el número mínimo de votos que debe tener una curva para ser considerada como una línea en la imagen original.\n",
    "\n",
    "6. Dibujar líneas: Finalmente, se extraen los parámetros de las líneas detectadas en el espacio de Hough y se dibujan las líneas en la imagen original. Los parámetros de la línea se calculan a partir de la ecuación de la curva correspondiente en el espacio de Hough.\n",
    "\n",
    "Es importante tener en cuenta que la Transformada de Hough es un algoritmo computacionalmente intensivo y puede requerir mucho tiempo de procesamiento para imágenes grandes o complejas."
   ]
  },
  {
   "cell_type": "code",
   "execution_count": 2,
   "metadata": {},
   "outputs": [
    {
     "name": "stdout",
     "output_type": "stream",
     "text": [
      "Can't receive frame (stream end?). Exiting ...\n"
     ]
    }
   ],
   "source": [
    "def region_interes(img, vertices):\n",
    "    mask = np.zeros_like(img)\n",
    "    match_mask_color = 255\n",
    "    cv2.fillPoly(mask, vertices, match_mask_color)\n",
    "    masked_image = cv2.bitwise_and(img, mask)\n",
    "    cv2.imshow('Masked', masked_image)\n",
    "    return masked_image\n",
    "\n",
    "def linea_guia(img, lines):\n",
    "    img = np.copy(img)\n",
    "    blank_image = np.zeros((img.shape[0], img.shape[1], 3), dtype=np.uint8)\n",
    "\n",
    "    for line in lines:\n",
    "        for x1, y1, x2, y2 in line:\n",
    "            cv2.line(blank_image, (x1,y1), (x2,y2), (0, 255, 0), thickness=10)\n",
    "\n",
    "    img = cv2.addWeighted(img, 0.8, blank_image, 1, 0.0)\n",
    "    return img\n",
    "\n",
    "def frame(img):\n",
    "    new_width = int(img.shape[1]/1.5)\n",
    "    new_height = int(img.shape[0]/1.5)\n",
    "    \n",
    "    region_of_interest_vertices = [\n",
    "    (0, new_height),\n",
    "    (new_width/2 - new_width/8, new_height/2),\n",
    "    (new_width - new_width / 2,  new_height/2),\n",
    "    (new_width, new_height)\n",
    "    ]\n",
    "    img = cv2.resize(img, (new_width, new_height))\n",
    "    gray = cv2.cvtColor(img, cv2.COLOR_BGR2GRAY)\n",
    "    edges = cv2.Canny(gray,50,150,apertureSize = 3)\n",
    "    cropped_image = region_interes(edges,\n",
    "                np.array([region_of_interest_vertices], np.int32),)\n",
    "    lines = cv2.HoughLinesP(cropped_image,\n",
    "                            rho=1,\n",
    "                            theta=np.pi/180,\n",
    "                            threshold=40,\n",
    "                            lines=np.array([]),\n",
    "                            minLineLength=30,\n",
    "                            maxLineGap=5)\n",
    "    image_with_lines = linea_guia(img, lines)\n",
    "    return image_with_lines\n",
    "\n",
    "cap = cv2.VideoCapture('test_video.mp4')\n",
    "while cap.isOpened():\n",
    "    ret, img= cap.read()\n",
    "\n",
    "    if not ret:\n",
    "        print(\"Can't receive frame (stream end?). Exiting ...\")\n",
    "        break\n",
    "    \n",
    "    img_lines = frame(img)\n",
    "\n",
    "    cv2.imshow('frame', img_lines)\n",
    "    if cv2.waitKey(1) == ord('q'):\n",
    "        break\n",
    "\n",
    "\n",
    "cap.release()\n",
    "cv2.destroyAllWindows()"
   ]
  }
 ],
 "metadata": {
  "kernelspec": {
   "display_name": "Python 3",
   "language": "python",
   "name": "python3"
  },
  "language_info": {
   "codemirror_mode": {
    "name": "ipython",
    "version": 3
   },
   "file_extension": ".py",
   "mimetype": "text/x-python",
   "name": "python",
   "nbconvert_exporter": "python",
   "pygments_lexer": "ipython3",
   "version": "3.9.2"
  },
  "orig_nbformat": 4,
  "vscode": {
   "interpreter": {
    "hash": "916dbcbb3f70747c44a77c7bcd40155683ae19c65e1c03b4aa3499c5328201f1"
   }
  }
 },
 "nbformat": 4,
 "nbformat_minor": 2
}
