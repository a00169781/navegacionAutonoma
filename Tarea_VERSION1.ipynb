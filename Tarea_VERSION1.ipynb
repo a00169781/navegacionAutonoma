{
 "cells": [
  {
   "cell_type": "code",
   "execution_count": 1,
   "metadata": {},
   "outputs": [],
   "source": [
    "import numpy as np\n",
    "import cv2 "
   ]
  },
  {
   "attachments": {},
   "cell_type": "markdown",
   "metadata": {},
   "source": [
    "El algoritmo de la Transformada de Hough consta de los siguientes pasos:\n",
    "\n",
    "1. Conversión de la imagen a escala de grises: Primero, se convierte la imagen original a escala de grises, ya que la detección de bordes y la segmentación de la imagen son más fáciles en imágenes en escala de grises.\n",
    "\n",
    "2. Detección de bordes: Se utiliza un operador de detección de bordes, como el operador Sobel o Canny, para detectar los bordes en la imagen en escala de grises. Los bordes son los puntos de la imagen donde la intensidad cambia abruptamente.\n",
    "\n",
    "3. Creación del espacio de Hough: Para cada píxel de borde en la imagen, se traza una curva en el espacio de Hough. La curva representa todas las posibles líneas que podrían pasar a través del píxel de borde. El espacio de Hough es una matriz de dos dimensiones donde cada punto representa una posible línea en la imagen original.\n",
    "\n",
    "4. Acumulación de votos: Se acumulan votos en el espacio de Hough para cada curva. Cada vez que una curva se cruza con otra curva en el espacio de Hough, se incrementa el contador de votos en esa posición del espacio de Hough. Los cruces de curvas representan las posibles líneas en la imagen original.\n",
    "\n",
    "5. Umbralización: Se establece un umbral en el contador de votos para identificar las líneas más prominentes en la imagen original. El umbral determina el número mínimo de votos que debe tener una curva para ser considerada como una línea en la imagen original.\n",
    "\n",
    "6. Dibujar líneas: Finalmente, se extraen los parámetros de las líneas detectadas en el espacio de Hough y se dibujan las líneas en la imagen original. Los parámetros de la línea se calculan a partir de la ecuación de la curva correspondiente en el espacio de Hough.\n",
    "\n",
    "Es importante tener en cuenta que la Transformada de Hough es un algoritmo computacionalmente intensivo y puede requerir mucho tiempo de procesamiento para imágenes grandes o complejas."
   ]
  },
  {
   "cell_type": "code",
   "execution_count": 1,
   "metadata": {},
   "outputs": [
    {
     "name": "stdout",
     "output_type": "stream",
     "text": [
      "Can't receive frame (stream end?). Exiting ...\n"
     ]
    },
    {
     "ename": "",
     "evalue": "",
     "output_type": "error",
     "traceback": [
      "\u001b[1;31mEl Kernel se bloqueó al ejecutar código en la celda actual o en una celda anterior. Revise el código de las celdas para identificar una posible causa del error. Haga clic <a href='https://aka.ms/vscodeJupyterKernelCrash'>aquí</a> para obtener más información. Vea el [registro] de Jupyter (command:jupyter.viewOutput) para obtener más detalles."
     ]
    }
   ],
   "source": [
    "import matplotlib.pylab as plt\n",
    "import cv2\n",
    "import numpy as np\n",
    "\n",
    "def region_interes(img, vertices):\n",
    "    mask = np.zeros_like(img)\n",
    "    match_mask_color = 255\n",
    "    cv2.fillPoly(mask, vertices, match_mask_color)\n",
    "    masked_image = cv2.bitwise_and(img, mask)\n",
    "    return masked_image\n",
    "\n",
    "def linea_guia(img, lines):\n",
    "    img = np.copy(img)\n",
    "    blank_image = np.zeros((img.shape[0], img.shape[1], 3), dtype=np.uint8)\n",
    "\n",
    "    for line in lines:\n",
    "        for x1, y1, x2, y2 in line:\n",
    "            cv2.line(blank_image, (x1,y1), (x2,y2), (0, 255, 0), thickness=10)\n",
    "\n",
    "    img = cv2.addWeighted(img, 0.8, blank_image, 1, 0.0)\n",
    "    return img\n",
    "\n",
    "def frame(img):\n",
    "    height = img.shape[0]\n",
    "    width = img.shape[1]\n",
    "    region_of_interest_vertices = [\n",
    "    (0, height),\n",
    "    (width/2, height/2),\n",
    "    (width, height)\n",
    "    ]\n",
    "    gray_image = cv2.cvtColor(img, cv2.COLOR_RGB2GRAY)\n",
    "    canny_image = cv2.Canny(gray_image, 100, 200)\n",
    "    cropped_image = region_interes(canny_image,\n",
    "                np.array([region_of_interest_vertices], np.int32),)\n",
    "    lines = cv2.HoughLinesP(cropped_image,\n",
    "                            rho=1,\n",
    "                            theta=np.pi/180,\n",
    "                            threshold=40,\n",
    "                            lines=np.array([]),\n",
    "                            minLineLength=40,\n",
    "                            maxLineGap=10)\n",
    "    image_with_lines = linea_guia(img, lines)\n",
    "    return image_with_lines\n",
    "\n",
    "cap = cv2.VideoCapture('test2.mp4')\n",
    "while cap.isOpened():\n",
    "    ret, img= cap.read()\n",
    "\n",
    "    if not ret:\n",
    "        print(\"Can't receive frame (stream end?). Exiting ...\")\n",
    "        break\n",
    "\n",
    "    img_lines=frame(img)\n",
    "    \n",
    "   \n",
    "\n",
    "    cv2.imshow('frame', img_lines)\n",
    "    if cv2.waitKey(1) == ord('q'):\n",
    "        break\n",
    "cap.release()\n",
    "cv2.destroyAllWindows()"
   ]
  }
 ],
 "metadata": {
  "kernelspec": {
   "display_name": "Python 3",
   "language": "python",
   "name": "python3"
  },
  "language_info": {
   "codemirror_mode": {
    "name": "ipython",
    "version": 3
   },
   "file_extension": ".py",
   "mimetype": "text/x-python",
   "name": "python",
   "nbconvert_exporter": "python",
   "pygments_lexer": "ipython3",
   "version": "3.8.8"
  },
  "orig_nbformat": 4
 },
 "nbformat": 4,
 "nbformat_minor": 2
}
